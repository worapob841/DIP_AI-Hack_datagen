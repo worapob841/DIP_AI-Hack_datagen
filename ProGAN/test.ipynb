{
 "cells": [
  {
   "cell_type": "code",
   "execution_count": 1,
   "metadata": {},
   "outputs": [
    {
     "name": "stderr",
     "output_type": "stream",
     "text": [
      "/home/kworapob/miniconda3/envs/pytorch_py3.10/lib/python3.10/site-packages/tqdm/auto.py:21: TqdmWarning: IProgress not found. Please update jupyter and ipywidgets. See https://ipywidgets.readthedocs.io/en/stable/user_install.html\n",
      "  from .autonotebook import tqdm as notebook_tqdm\n"
     ]
    }
   ],
   "source": [
    "import torch\n",
    "import torch.optim as optim\n",
    "import torchvision.datasets as datasets\n",
    "import torchvision.transforms as transforms\n",
    "from torch.utils.data import DataLoader\n",
    "from torch.utils.tensorboard import SummaryWriter\n",
    "from utils import (\n",
    "    gradient_penalty,\n",
    "    plot_to_tensorboard,\n",
    "    save_checkpoint,\n",
    "    load_checkpoint,\n",
    "    generate_examples,\n",
    "    seed_everything\n",
    ")\n",
    "from model import Discriminator, Generator\n",
    "from math import log2\n",
    "from tqdm import tqdm\n",
    "import config\n",
    "import os\n",
    "from torchvision.utils import make_grid\n",
    "import matplotlib.pyplot as plt"
   ]
  },
  {
   "cell_type": "code",
   "execution_count": 2,
   "metadata": {},
   "outputs": [],
   "source": [
    "def get_loader(image_size):\n",
    "    transform = transforms.Compose(\n",
    "        [\n",
    "            transforms.Resize((image_size, image_size)),\n",
    "            transforms.ToTensor(),\n",
    "            transforms.RandomHorizontalFlip(p=0.5),\n",
    "            transforms.Normalize(\n",
    "                [0.5 for _ in range(config.CHANNELS_IMG)],\n",
    "                [0.5 for _ in range(config.CHANNELS_IMG)],\n",
    "            ),\n",
    "        ]\n",
    "    )\n",
    "    batch_size = config.BATCH_SIZES[int(log2(image_size / 4))]\n",
    "    dataset = datasets.ImageFolder(root='/mnt/d/ML_playground/DIP_AI-Hack_datagen/IM_Train/train', transform=transform)\n",
    "    loader = DataLoader(\n",
    "        dataset,\n",
    "        batch_size=batch_size,\n",
    "        shuffle=True,\n",
    "        num_workers=config.NUM_WORKERS,\n",
    "        pin_memory=True,\n",
    "    )\n",
    "    return loader, dataset"
   ]
  },
  {
   "cell_type": "code",
   "execution_count": 3,
   "metadata": {},
   "outputs": [],
   "source": [
    "loader, dataset = get_loader(256)"
   ]
  },
  {
   "cell_type": "code",
   "execution_count": 4,
   "metadata": {},
   "outputs": [],
   "source": [
    "batch, label = next(iter(loader))"
   ]
  },
  {
   "cell_type": "code",
   "execution_count": 5,
   "metadata": {},
   "outputs": [
    {
     "data": {
      "text/plain": [
       "tensor([2, 1, 8, 1, 5, 6, 2, 0, 4, 1, 0, 1, 1, 8, 5, 4])"
      ]
     },
     "execution_count": 5,
     "metadata": {},
     "output_type": "execute_result"
    }
   ],
   "source": [
    "label"
   ]
  },
  {
   "cell_type": "code",
   "execution_count": 6,
   "metadata": {},
   "outputs": [],
   "source": [
    "gen = Generator(\n",
    "        522, 512, img_channels=3\n",
    "    )"
   ]
  },
  {
   "cell_type": "code",
   "execution_count": 7,
   "metadata": {},
   "outputs": [
    {
     "data": {
      "text/plain": [
       "torch.Size([1, 10, 1, 1])"
      ]
     },
     "execution_count": 7,
     "metadata": {},
     "output_type": "execute_result"
    }
   ],
   "source": [
    "import torch.nn as nn\n",
    "\n",
    "label_emb = nn.Embedding(10, 10)\n",
    "label_emb(torch.tensor([1])).unsqueeze(2).unsqueeze(3).shape\n"
   ]
  },
  {
   "cell_type": "code",
   "execution_count": 8,
   "metadata": {},
   "outputs": [
    {
     "name": "stdout",
     "output_type": "stream",
     "text": [
      "torch.Size([1, 522, 1, 1])\n"
     ]
    },
    {
     "data": {
      "text/plain": [
       "tensor([[[[ 0.9872,  0.9014,  0.9137,  ..., -0.8934, -0.7153, -0.9583],\n",
       "          [ 0.7718,  0.9650,  0.9964,  ...,  0.9606,  0.9812, -0.0244],\n",
       "          [ 0.8874,  0.9780,  0.9981,  ...,  0.5145,  0.8064, -0.2941],\n",
       "          ...,\n",
       "          [ 0.5429,  0.7258,  0.5853,  ..., -0.7243, -0.6009,  0.5369],\n",
       "          [-0.5106,  0.0303, -0.7063,  ..., -0.5721, -0.8104,  0.5952],\n",
       "          [ 0.0763,  0.3637, -0.2419,  ..., -0.0302, -0.7166,  0.8068]],\n",
       "\n",
       "         [[-0.8977, -0.7054, -0.9044,  ..., -0.2764, -0.9465, -0.9534],\n",
       "          [-0.8415, -0.7579, -0.7134,  ..., -0.9450, -0.8686, -0.9144],\n",
       "          [-0.8804, -0.9243, -0.9278,  ..., -0.9485, -0.9679, -0.7147],\n",
       "          ...,\n",
       "          [-0.9839, -0.9991, -0.9990,  ..., -0.7629, -0.8671, -0.5704],\n",
       "          [-0.9686, -0.9982, -0.9992,  ..., -0.6618, -0.9802, -0.8186],\n",
       "          [-0.7122, -0.9922, -0.9744,  ..., -0.3514, -0.9415, -0.0048]],\n",
       "\n",
       "         [[-0.0120, -0.5781, -0.3875,  ..., -0.0651, -0.7907,  0.5880],\n",
       "          [-0.9437, -0.8010, -0.7929,  ..., -0.9177, -0.8425,  0.7120],\n",
       "          [-0.9473,  0.7561,  0.2847,  ..., -0.2244, -0.3441,  0.6839],\n",
       "          ...,\n",
       "          [-0.3680, -0.9205, -0.9127,  ..., -0.5950, -0.2374,  0.7871],\n",
       "          [-0.8453, -0.9540, -0.9879,  ..., -0.7610,  0.0033,  0.6363],\n",
       "          [ 0.7484, -0.3507, -0.7822,  ...,  0.0132,  0.1426, -0.4444]]]],\n",
       "       grad_fn=<TanhBackward0>)"
      ]
     },
     "execution_count": 8,
     "metadata": {},
     "output_type": "execute_result"
    }
   ],
   "source": [
    "noise = torch.randn(1, 512, 1, 1)\n",
    "gen(noise,torch.tensor([1]),1,1)"
   ]
  },
  {
   "cell_type": "code",
   "execution_count": 2,
   "metadata": {},
   "outputs": [
    {
     "name": "stdout",
     "output_type": "stream",
     "text": [
      "Generator(\n",
      "  (label_emb): Embedding(11, 10)\n",
      "  (initial): Sequential(\n",
      "    (0): PixelNorm()\n",
      "    (1): ConvTranspose2d(512, 512, kernel_size=(4, 4), stride=(1, 1))\n",
      "    (2): LeakyReLU(negative_slope=0.2)\n",
      "    (3): WSConv2d(\n",
      "      (conv): Conv2d(512, 512, kernel_size=(3, 3), stride=(1, 1), padding=(1, 1), bias=False)\n",
      "    )\n",
      "    (4): LeakyReLU(negative_slope=0.2)\n",
      "    (5): PixelNorm()\n",
      "  )\n",
      "  (initial_rgb): WSConv2d(\n",
      "    (conv): Conv2d(512, 3, kernel_size=(1, 1), stride=(1, 1), bias=False)\n",
      "  )\n",
      "  (prog_blocks): ModuleList(\n",
      "    (0-2): 3 x ConvBlock(\n",
      "      (conv1): WSConv2d(\n",
      "        (conv): Conv2d(512, 512, kernel_size=(3, 3), stride=(1, 1), padding=(1, 1), bias=False)\n",
      "      )\n",
      "      (conv2): WSConv2d(\n",
      "        (conv): Conv2d(512, 512, kernel_size=(3, 3), stride=(1, 1), padding=(1, 1), bias=False)\n",
      "      )\n",
      "      (leaky): LeakyReLU(negative_slope=0.2)\n",
      "      (pn): PixelNorm()\n",
      "    )\n",
      "    (3): ConvBlock(\n",
      "      (conv1): WSConv2d(\n",
      "        (conv): Conv2d(512, 256, kernel_size=(3, 3), stride=(1, 1), padding=(1, 1), bias=False)\n",
      "      )\n",
      "      (conv2): WSConv2d(\n",
      "        (conv): Conv2d(256, 256, kernel_size=(3, 3), stride=(1, 1), padding=(1, 1), bias=False)\n",
      "      )\n",
      "      (leaky): LeakyReLU(negative_slope=0.2)\n",
      "      (pn): PixelNorm()\n",
      "    )\n",
      "    (4): ConvBlock(\n",
      "      (conv1): WSConv2d(\n",
      "        (conv): Conv2d(256, 128, kernel_size=(3, 3), stride=(1, 1), padding=(1, 1), bias=False)\n",
      "      )\n",
      "      (conv2): WSConv2d(\n",
      "        (conv): Conv2d(128, 128, kernel_size=(3, 3), stride=(1, 1), padding=(1, 1), bias=False)\n",
      "      )\n",
      "      (leaky): LeakyReLU(negative_slope=0.2)\n",
      "      (pn): PixelNorm()\n",
      "    )\n",
      "    (5): ConvBlock(\n",
      "      (conv1): WSConv2d(\n",
      "        (conv): Conv2d(128, 64, kernel_size=(3, 3), stride=(1, 1), padding=(1, 1), bias=False)\n",
      "      )\n",
      "      (conv2): WSConv2d(\n",
      "        (conv): Conv2d(64, 64, kernel_size=(3, 3), stride=(1, 1), padding=(1, 1), bias=False)\n",
      "      )\n",
      "      (leaky): LeakyReLU(negative_slope=0.2)\n",
      "      (pn): PixelNorm()\n",
      "    )\n",
      "    (6): ConvBlock(\n",
      "      (conv1): WSConv2d(\n",
      "        (conv): Conv2d(64, 32, kernel_size=(3, 3), stride=(1, 1), padding=(1, 1), bias=False)\n",
      "      )\n",
      "      (conv2): WSConv2d(\n",
      "        (conv): Conv2d(32, 32, kernel_size=(3, 3), stride=(1, 1), padding=(1, 1), bias=False)\n",
      "      )\n",
      "      (leaky): LeakyReLU(negative_slope=0.2)\n",
      "      (pn): PixelNorm()\n",
      "    )\n",
      "    (7): ConvBlock(\n",
      "      (conv1): WSConv2d(\n",
      "        (conv): Conv2d(32, 16, kernel_size=(3, 3), stride=(1, 1), padding=(1, 1), bias=False)\n",
      "      )\n",
      "      (conv2): WSConv2d(\n",
      "        (conv): Conv2d(16, 16, kernel_size=(3, 3), stride=(1, 1), padding=(1, 1), bias=False)\n",
      "      )\n",
      "      (leaky): LeakyReLU(negative_slope=0.2)\n",
      "      (pn): PixelNorm()\n",
      "    )\n",
      "  )\n",
      "  (rgb_layers): ModuleList(\n",
      "    (0-3): 4 x WSConv2d(\n",
      "      (conv): Conv2d(512, 3, kernel_size=(1, 1), stride=(1, 1), bias=False)\n",
      "    )\n",
      "    (4): WSConv2d(\n",
      "      (conv): Conv2d(256, 3, kernel_size=(1, 1), stride=(1, 1), bias=False)\n",
      "    )\n",
      "    (5): WSConv2d(\n",
      "      (conv): Conv2d(128, 3, kernel_size=(1, 1), stride=(1, 1), bias=False)\n",
      "    )\n",
      "    (6): WSConv2d(\n",
      "      (conv): Conv2d(64, 3, kernel_size=(1, 1), stride=(1, 1), bias=False)\n",
      "    )\n",
      "    (7): WSConv2d(\n",
      "      (conv): Conv2d(32, 3, kernel_size=(1, 1), stride=(1, 1), bias=False)\n",
      "    )\n",
      "    (8): WSConv2d(\n",
      "      (conv): Conv2d(16, 3, kernel_size=(1, 1), stride=(1, 1), bias=False)\n",
      "    )\n",
      "  )\n",
      ")\n",
      "Discriminator(\n",
      "  (label_emb): Embedding(10, 10)\n",
      "  (prog_blocks): ModuleList(\n",
      "    (0): ConvBlock(\n",
      "      (conv1): WSConv2d(\n",
      "        (conv): Conv2d(16, 32, kernel_size=(3, 3), stride=(1, 1), padding=(1, 1), bias=False)\n",
      "      )\n",
      "      (conv2): WSConv2d(\n",
      "        (conv): Conv2d(32, 32, kernel_size=(3, 3), stride=(1, 1), padding=(1, 1), bias=False)\n",
      "      )\n",
      "      (leaky): LeakyReLU(negative_slope=0.2)\n",
      "      (pn): PixelNorm()\n",
      "    )\n",
      "    (1): ConvBlock(\n",
      "      (conv1): WSConv2d(\n",
      "        (conv): Conv2d(32, 64, kernel_size=(3, 3), stride=(1, 1), padding=(1, 1), bias=False)\n",
      "      )\n",
      "      (conv2): WSConv2d(\n",
      "        (conv): Conv2d(64, 64, kernel_size=(3, 3), stride=(1, 1), padding=(1, 1), bias=False)\n",
      "      )\n",
      "      (leaky): LeakyReLU(negative_slope=0.2)\n",
      "      (pn): PixelNorm()\n",
      "    )\n",
      "    (2): ConvBlock(\n",
      "      (conv1): WSConv2d(\n",
      "        (conv): Conv2d(64, 128, kernel_size=(3, 3), stride=(1, 1), padding=(1, 1), bias=False)\n",
      "      )\n",
      "      (conv2): WSConv2d(\n",
      "        (conv): Conv2d(128, 128, kernel_size=(3, 3), stride=(1, 1), padding=(1, 1), bias=False)\n",
      "      )\n",
      "      (leaky): LeakyReLU(negative_slope=0.2)\n",
      "      (pn): PixelNorm()\n",
      "    )\n",
      "    (3): ConvBlock(\n",
      "      (conv1): WSConv2d(\n",
      "        (conv): Conv2d(128, 256, kernel_size=(3, 3), stride=(1, 1), padding=(1, 1), bias=False)\n",
      "      )\n",
      "      (conv2): WSConv2d(\n",
      "        (conv): Conv2d(256, 256, kernel_size=(3, 3), stride=(1, 1), padding=(1, 1), bias=False)\n",
      "      )\n",
      "      (leaky): LeakyReLU(negative_slope=0.2)\n",
      "      (pn): PixelNorm()\n",
      "    )\n",
      "    (4): ConvBlock(\n",
      "      (conv1): WSConv2d(\n",
      "        (conv): Conv2d(256, 512, kernel_size=(3, 3), stride=(1, 1), padding=(1, 1), bias=False)\n",
      "      )\n",
      "      (conv2): WSConv2d(\n",
      "        (conv): Conv2d(512, 512, kernel_size=(3, 3), stride=(1, 1), padding=(1, 1), bias=False)\n",
      "      )\n",
      "      (leaky): LeakyReLU(negative_slope=0.2)\n",
      "      (pn): PixelNorm()\n",
      "    )\n",
      "    (5-7): 3 x ConvBlock(\n",
      "      (conv1): WSConv2d(\n",
      "        (conv): Conv2d(512, 512, kernel_size=(3, 3), stride=(1, 1), padding=(1, 1), bias=False)\n",
      "      )\n",
      "      (conv2): WSConv2d(\n",
      "        (conv): Conv2d(512, 512, kernel_size=(3, 3), stride=(1, 1), padding=(1, 1), bias=False)\n",
      "      )\n",
      "      (leaky): LeakyReLU(negative_slope=0.2)\n",
      "      (pn): PixelNorm()\n",
      "    )\n",
      "  )\n",
      "  (rgb_layers): ModuleList(\n",
      "    (0): WSConv2d(\n",
      "      (conv): Conv2d(13, 16, kernel_size=(1, 1), stride=(1, 1), bias=False)\n",
      "    )\n",
      "    (1): WSConv2d(\n",
      "      (conv): Conv2d(13, 32, kernel_size=(1, 1), stride=(1, 1), bias=False)\n",
      "    )\n",
      "    (2): WSConv2d(\n",
      "      (conv): Conv2d(13, 64, kernel_size=(1, 1), stride=(1, 1), bias=False)\n",
      "    )\n",
      "    (3): WSConv2d(\n",
      "      (conv): Conv2d(13, 128, kernel_size=(1, 1), stride=(1, 1), bias=False)\n",
      "    )\n",
      "    (4): WSConv2d(\n",
      "      (conv): Conv2d(13, 256, kernel_size=(1, 1), stride=(1, 1), bias=False)\n",
      "    )\n",
      "    (5-8): 4 x WSConv2d(\n",
      "      (conv): Conv2d(13, 512, kernel_size=(1, 1), stride=(1, 1), bias=False)\n",
      "    )\n",
      "  )\n",
      "  (leaky): LeakyReLU(negative_slope=0.2)\n",
      "  (initial_rgb): WSConv2d(\n",
      "    (conv): Conv2d(13, 512, kernel_size=(1, 1), stride=(1, 1), bias=False)\n",
      "  )\n",
      "  (avg_pool): AvgPool2d(kernel_size=2, stride=2, padding=0)\n",
      "  (final_block): Sequential(\n",
      "    (0): WSConv2d(\n",
      "      (conv): Conv2d(513, 512, kernel_size=(3, 3), stride=(1, 1), padding=(1, 1), bias=False)\n",
      "    )\n",
      "    (1): LeakyReLU(negative_slope=0.2)\n",
      "    (2): WSConv2d(\n",
      "      (conv): Conv2d(512, 512, kernel_size=(4, 4), stride=(1, 1), bias=False)\n",
      "    )\n",
      "    (3): LeakyReLU(negative_slope=0.2)\n",
      "    (4): WSConv2d(\n",
      "      (conv): Conv2d(512, 1, kernel_size=(1, 1), stride=(1, 1), bias=False)\n",
      "    )\n",
      "  )\n",
      ")\n"
     ]
    }
   ],
   "source": [
    "gen = Generator(\n",
    "        config.Z_DIM, config.IN_CHANNELS, img_channels=config.CHANNELS_IMG\n",
    "    ).to(config.DEVICE)\n",
    "critic = Discriminator(\n",
    "        config.Z_DIM, config.IN_CHANNELS, img_channels=config.CHANNELS_IMG\n",
    "    ).to(config.DEVICE)\n",
    "\n",
    "# initialize optimizers and scalers for FP16 training\n",
    "opt_gen = optim.Adam(\n",
    "    gen.parameters(), lr=config.LEARNING_RATE, betas=(0.0, 0.99))\n",
    "opt_critic = optim.Adam(\n",
    "    critic.parameters(), lr=config.LEARNING_RATE, betas=(0.0, 0.99))\n",
    "scaler_critic = torch.cuda.amp.GradScaler()\n",
    "scaler_gen = torch.cuda.amp.GradScaler()\n",
    "print(gen)\n",
    "print(critic)"
   ]
  },
  {
   "cell_type": "code",
   "execution_count": 3,
   "metadata": {},
   "outputs": [
    {
     "name": "stdout",
     "output_type": "stream",
     "text": [
      "=> Loading checkpoint from /home/kworapob/DIP_AI-Hack_datagen/ProGAN/checkpoint_cleaned-data-secondtry/generator_sz32/generator99_3_1500.pth\n"
     ]
    },
    {
     "data": {
      "text/plain": [
       "[1500, 99, 1]"
      ]
     },
     "execution_count": 3,
     "metadata": {},
     "output_type": "execute_result"
    }
   ],
   "source": [
    "load_checkpoint(\n",
    "            '/home/kworapob/DIP_AI-Hack_datagen/ProGAN/checkpoint_cleaned-data-secondtry/generator_sz32/generator99_3_1500.pth', gen, opt_gen, config.LEARNING_RATE,\n",
    "        )\n",
    "# load_checkpoint(\n",
    "#             '/mnt/c/Users/Worapob/Desktop/ML_playground/ProGAN/checkpoint/critic_sz128/critic25_5_634.pth', critic, opt_critic, config.LEARNING_RATE,\n",
    "#         )"
   ]
  },
  {
   "cell_type": "code",
   "execution_count": 4,
   "metadata": {},
   "outputs": [],
   "source": [
    "def generate_transition_codes(num_codes, latent_dim, num_steps=10,device='cuda'):\n",
    "\n",
    "    start_codes = torch.randn(num_codes, latent_dim,device=device)\n",
    "\n",
    "    end_codes = torch.randn(num_codes, latent_dim,device=device)\n",
    "    transition_codes = []\n",
    "    for i in range(num_steps):\n",
    "        alpha = i / (num_steps - 1)  \n",
    "        intermediate_codes = (1 - alpha) * start_codes + alpha * end_codes\n",
    "        transition_codes.append(intermediate_codes)\n",
    "\n",
    "    return torch.cat(transition_codes)\n",
    "\n",
    "def show_tensor_test_img(img_tensor,num_imgs=25,nrow=5,size=(5,5),epoch=0):\n",
    "    img_tensor=(img_tensor+1)/2\n",
    "    img_unflat = img_tensor.detach().cpu()\n",
    "    img_unflat = img_unflat.expand(-1, 3, -1, -1)\n",
    "    img_grid = make_grid(img_unflat[:num_imgs],nrow=nrow)\n",
    "    plt.figure(figsize=size)\n",
    "    plt.imshow(img_grid.permute(1,2,0).squeeze())\n",
    "    plt.axis('off')\n",
    "    plt.show()\n",
    "\n",
    "def generate_gif(img_ls, save_path):\n",
    "    img_ls=(img_ls+1)/2\n",
    "    img_ls=img_ls.detach().cpu()\n",
    "    img_ls=img_ls.expand(-1, 3, -1, -1)\n",
    "    transform = transforms.ToPILImage()\n",
    "    images = [transform(img) for img in img_ls]\n",
    "    \n",
    "    # Save the images as a GIF\n",
    "    images[0].save(save_path, save_all=True, append_images=images[1:], optimize=False, duration=1, loop=0)\n",
    "\n",
    "    return images"
   ]
  },
  {
   "cell_type": "code",
   "execution_count": 31,
   "metadata": {},
   "outputs": [
    {
     "name": "stdout",
     "output_type": "stream",
     "text": [
      "torch.Size([10, 502, 1, 1])\n",
      "torch.Size([10])\n",
      "torch.Size([10, 3, 32, 32])\n"
     ]
    },
    {
     "data": {
      "image/png": "[encoded data removed]",
      "text/plain": [
       "<Figure size 500x500 with 1 Axes>"
      ]
     },
     "metadata": {},
     "output_type": "display_data"
    }
   ],
   "source": [
    "device = \"cuda\"\n",
    "step = int(log2(32/ 4))\n",
    "noise = torch.randn(10, 502, 1, 1).to(device)\n",
    "print(noise.shape)\n",
    "img_cls = torch.tensor([0,1,2,3,4,5,6,7,8,9]).to(device)\n",
    "print(img_cls.shape)\n",
    "img = gen(noise,img_cls, 1.0, step)\n",
    "print(img.shape)\n",
    "show_tensor_test_img(img,num_imgs=10,nrow=10)"
   ]
  },
  {
   "cell_type": "code",
   "execution_count": 36,
   "metadata": {},
   "outputs": [
    {
     "name": "stdout",
     "output_type": "stream",
     "text": [
      "torch.Size([100, 512])\n",
      "tensor([[ 1.6058, -0.7339,  0.2171,  ..., -0.2430, -0.9420,  1.2733],\n",
      "        [ 0.2472, -1.0793, -0.1682,  ...,  0.3773,  0.6070, -0.3894],\n",
      "        [ 1.7358, -0.7768,  1.4079,  ...,  0.2335, -0.0392,  0.1956],\n",
      "        ...,\n",
      "        [-1.5879,  0.9690, -1.6398,  ..., -0.6171, -0.9470,  1.4326],\n",
      "        [-0.3537,  2.2684,  2.6491,  ..., -0.2837, -0.3205, -1.1047],\n",
      "        [ 0.8592, -2.7316,  1.5805,  ..., -0.3947,  1.7677,  0.1595]],\n",
      "       device='cuda:0')\n"
     ]
    },
    {
     "ename": "RuntimeError",
     "evalue": "Tensors must have same number of dimensions: got 2 and 4",
     "output_type": "error",
     "traceback": [
      "\u001b[0;31m---------------------------------------------------------------------------\u001b[0m",
      "\u001b[0;31mRuntimeError\u001b[0m                              Traceback (most recent call last)",
      "Cell \u001b[0;32mIn[36], line 8\u001b[0m\n\u001b[1;32m      4\u001b[0m \u001b[38;5;28mprint\u001b[39m(manipulate_test_noise\u001b[38;5;241m.\u001b[39mshape)\n\u001b[1;32m      5\u001b[0m \u001b[38;5;28mprint\u001b[39m(manipulate_test_noise)\n\u001b[0;32m----> 8\u001b[0m img \u001b[38;5;241m=\u001b[39m \u001b[43mgen\u001b[49m\u001b[43m(\u001b[49m\u001b[43mmanipulate_test_noise\u001b[49m\u001b[43m,\u001b[49m\u001b[43mimg_cls\u001b[49m\u001b[43m,\u001b[49m\u001b[43m \u001b[49m\u001b[38;5;241;43m1.0\u001b[39;49m\u001b[43m,\u001b[49m\u001b[43m \u001b[49m\u001b[43mstep\u001b[49m\u001b[43m)\u001b[49m\n\u001b[1;32m      9\u001b[0m show_tensor_test_img(img,num_imgs\u001b[38;5;241m=\u001b[39m\u001b[38;5;241m100\u001b[39m,nrow \u001b[38;5;241m=\u001b[39m \u001b[38;5;241m10\u001b[39m,size\u001b[38;5;241m=\u001b[39m(\u001b[38;5;241m8\u001b[39m,\u001b[38;5;241m8\u001b[39m))\n",
      "File \u001b[0;32m~/miniconda3/envs/pytorch_py3.10/lib/python3.10/site-packages/torch/nn/modules/module.py:1532\u001b[0m, in \u001b[0;36mModule._wrapped_call_impl\u001b[0;34m(self, *args, **kwargs)\u001b[0m\n\u001b[1;32m   1530\u001b[0m     \u001b[38;5;28;01mreturn\u001b[39;00m \u001b[38;5;28mself\u001b[39m\u001b[38;5;241m.\u001b[39m_compiled_call_impl(\u001b[38;5;241m*\u001b[39margs, \u001b[38;5;241m*\u001b[39m\u001b[38;5;241m*\u001b[39mkwargs)  \u001b[38;5;66;03m# type: ignore[misc]\u001b[39;00m\n\u001b[1;32m   1531\u001b[0m \u001b[38;5;28;01melse\u001b[39;00m:\n\u001b[0;32m-> 1532\u001b[0m     \u001b[38;5;28;01mreturn\u001b[39;00m \u001b[38;5;28;43mself\u001b[39;49m\u001b[38;5;241;43m.\u001b[39;49m\u001b[43m_call_impl\u001b[49m\u001b[43m(\u001b[49m\u001b[38;5;241;43m*\u001b[39;49m\u001b[43margs\u001b[49m\u001b[43m,\u001b[49m\u001b[43m \u001b[49m\u001b[38;5;241;43m*\u001b[39;49m\u001b[38;5;241;43m*\u001b[39;49m\u001b[43mkwargs\u001b[49m\u001b[43m)\u001b[49m\n",
      "File \u001b[0;32m~/miniconda3/envs/pytorch_py3.10/lib/python3.10/site-packages/torch/nn/modules/module.py:1541\u001b[0m, in \u001b[0;36mModule._call_impl\u001b[0;34m(self, *args, **kwargs)\u001b[0m\n\u001b[1;32m   1536\u001b[0m \u001b[38;5;66;03m# If we don't have any hooks, we want to skip the rest of the logic in\u001b[39;00m\n\u001b[1;32m   1537\u001b[0m \u001b[38;5;66;03m# this function, and just call forward.\u001b[39;00m\n\u001b[1;32m   1538\u001b[0m \u001b[38;5;28;01mif\u001b[39;00m \u001b[38;5;129;01mnot\u001b[39;00m (\u001b[38;5;28mself\u001b[39m\u001b[38;5;241m.\u001b[39m_backward_hooks \u001b[38;5;129;01mor\u001b[39;00m \u001b[38;5;28mself\u001b[39m\u001b[38;5;241m.\u001b[39m_backward_pre_hooks \u001b[38;5;129;01mor\u001b[39;00m \u001b[38;5;28mself\u001b[39m\u001b[38;5;241m.\u001b[39m_forward_hooks \u001b[38;5;129;01mor\u001b[39;00m \u001b[38;5;28mself\u001b[39m\u001b[38;5;241m.\u001b[39m_forward_pre_hooks\n\u001b[1;32m   1539\u001b[0m         \u001b[38;5;129;01mor\u001b[39;00m _global_backward_pre_hooks \u001b[38;5;129;01mor\u001b[39;00m _global_backward_hooks\n\u001b[1;32m   1540\u001b[0m         \u001b[38;5;129;01mor\u001b[39;00m _global_forward_hooks \u001b[38;5;129;01mor\u001b[39;00m _global_forward_pre_hooks):\n\u001b[0;32m-> 1541\u001b[0m     \u001b[38;5;28;01mreturn\u001b[39;00m \u001b[43mforward_call\u001b[49m\u001b[43m(\u001b[49m\u001b[38;5;241;43m*\u001b[39;49m\u001b[43margs\u001b[49m\u001b[43m,\u001b[49m\u001b[43m \u001b[49m\u001b[38;5;241;43m*\u001b[39;49m\u001b[38;5;241;43m*\u001b[39;49m\u001b[43mkwargs\u001b[49m\u001b[43m)\u001b[49m\n\u001b[1;32m   1543\u001b[0m \u001b[38;5;28;01mtry\u001b[39;00m:\n\u001b[1;32m   1544\u001b[0m     result \u001b[38;5;241m=\u001b[39m \u001b[38;5;28;01mNone\u001b[39;00m\n",
      "File \u001b[0;32m~/DIP_AI-Hack_datagen/ProGAN/model.py:100\u001b[0m, in \u001b[0;36mGenerator.forward\u001b[0;34m(self, x, labels, alpha, steps)\u001b[0m\n\u001b[1;32m     98\u001b[0m c \u001b[38;5;241m=\u001b[39m c\u001b[38;5;241m.\u001b[39mview(c\u001b[38;5;241m.\u001b[39mshape[\u001b[38;5;241m0\u001b[39m], c\u001b[38;5;241m.\u001b[39mshape[\u001b[38;5;241m1\u001b[39m], \u001b[38;5;241m1\u001b[39m, \u001b[38;5;241m1\u001b[39m)\n\u001b[1;32m     99\u001b[0m \u001b[38;5;66;03m# print('c',c.shape,c.min(),c.max(),c.dtype)\u001b[39;00m\n\u001b[0;32m--> 100\u001b[0m x \u001b[38;5;241m=\u001b[39m \u001b[43mtorch\u001b[49m\u001b[38;5;241;43m.\u001b[39;49m\u001b[43mcat\u001b[49m\u001b[43m(\u001b[49m\u001b[43m(\u001b[49m\u001b[43mx\u001b[49m\u001b[43m,\u001b[49m\u001b[43m \u001b[49m\u001b[43mc\u001b[49m\u001b[43m)\u001b[49m\u001b[43m,\u001b[49m\u001b[43m \u001b[49m\u001b[43mdim\u001b[49m\u001b[38;5;241;43m=\u001b[39;49m\u001b[38;5;241;43m1\u001b[39;49m\u001b[43m)\u001b[49m\n\u001b[1;32m    101\u001b[0m \u001b[38;5;66;03m# print('x',x.shape,x.min(),x.max(),x.dtype)\u001b[39;00m\n\u001b[1;32m    102\u001b[0m \u001b[38;5;66;03m# print()\u001b[39;00m\n\u001b[1;32m    105\u001b[0m out \u001b[38;5;241m=\u001b[39m \u001b[38;5;28mself\u001b[39m\u001b[38;5;241m.\u001b[39minitial(x)\n",
      "\u001b[0;31mRuntimeError\u001b[0m: Tensors must have same number of dimensions: got 2 and 4"
     ]
    }
   ],
   "source": [
    "manipulate_test_noise = generate_transition_codes(10,512,num_steps=10,device='cuda')\n",
    "img_cls = torch.tensor([0*100]).to(device)\n",
    "step = int(log2(128/ 4))\n",
    "print(manipulate_test_noise.shape)\n",
    "print(manipulate_test_noise)\n",
    "\n",
    "\n",
    "img = gen(manipulate_test_noise,img_cls, 1.0, step)\n",
    "show_tensor_test_img(img,num_imgs=100,nrow = 10,size=(8,8))"
   ]
  },
  {
   "cell_type": "code",
   "execution_count": null,
   "metadata": {},
   "outputs": [],
   "source": []
  }
 ],
 "metadata": {
  "kernelspec": {
   "display_name": "Python 3 (ipykernel)",
   "language": "python",
   "name": "python3"
  },
  "language_info": {
   "codemirror_mode": {
    "name": "ipython",
    "version": 3
   },
   "file_extension": ".py",
   "mimetype": "text/x-python",
   "name": "python",
   "nbconvert_exporter": "python",
   "pygments_lexer": "ipython3",
   "version": "3.10.14"
  },
  "orig_nbformat": 4
 },
 "nbformat": 4,
 "nbformat_minor": 2
}
